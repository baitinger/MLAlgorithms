{
 "cells": [
  {
   "cell_type": "code",
   "execution_count": 1,
   "metadata": {
    "colab": {},
    "colab_type": "code",
    "id": "bJ1KA9cq9INW"
   },
   "outputs": [],
   "source": [
    "import numpy as np\n",
    "import matplotlib.pyplot as plt\n",
    "from mpl_toolkits.mplot3d.axes3d import Axes3D"
   ]
  },
  {
   "cell_type": "markdown",
   "metadata": {},
   "source": [
    "__Исходная задача:__ предсказание баллов ЕГЭ ученика в зависимости от кол-ва лет стажа его репетитора"
   ]
  },
  {
   "cell_type": "code",
   "execution_count": 2,
   "metadata": {
    "colab": {},
    "colab_type": "code",
    "id": "i77tZbAd5plB"
   },
   "outputs": [],
   "source": [
    "X = np.array([[ 1,  1],\n",
    "              [ 1,  1],\n",
    "              [ 1,  2],\n",
    "              [ 1,  5],\n",
    "              [ 1,  3],\n",
    "              [ 1,  0],\n",
    "              [ 1,  5],\n",
    "              [ 1, 10],\n",
    "              [ 1,  1],\n",
    "              [ 1,  2]])"
   ]
  },
  {
   "cell_type": "code",
   "execution_count": 3,
   "metadata": {
    "colab": {},
    "colab_type": "code",
    "id": "VsNrKi1Q6Wmh"
   },
   "outputs": [],
   "source": [
    "y = [45, 55, 50, 55, 60, 35, 75, 80, 50, 60]"
   ]
  },
  {
   "cell_type": "code",
   "execution_count": 4,
   "metadata": {
    "colab": {},
    "colab_type": "code",
    "id": "JTSC2cFnCd8T"
   },
   "outputs": [],
   "source": [
    "def calc_mae(y, y_pred):\n",
    "    err = np.mean(np.abs(y - y_pred))\n",
    "    return err\n",
    "\n",
    "def calc_mse(y, y_pred):\n",
    "    err = np.mean((y - y_pred)**2)\n",
    "    return err"
   ]
  },
  {
   "cell_type": "code",
   "execution_count": 5,
   "metadata": {},
   "outputs": [
    {
     "data": {
      "text/plain": [
       "array([45.0625,  3.8125])"
      ]
     },
     "execution_count": 5,
     "metadata": {},
     "output_type": "execute_result"
    }
   ],
   "source": [
    "W_analytical = np.linalg.inv((X.T @ X)) @ X.T @ y\n",
    "W_analytical"
   ]
  },
  {
   "cell_type": "markdown",
   "metadata": {},
   "source": [
    "### Домашнее задание <a class=\"anchor\" id=\"hw\"></a><center>"
   ]
  },
  {
   "cell_type": "markdown",
   "metadata": {
    "colab_type": "text",
    "id": "huXrhXQsZTMt"
   },
   "source": [
    "1. Подберите скорость обучения (eta) и количество итераций"
   ]
  },
  {
   "cell_type": "code",
   "execution_count": 6,
   "metadata": {
    "colab": {
     "base_uri": "https://localhost:8080/",
     "height": 185
    },
    "colab_type": "code",
    "id": "IDB22MQKMYaJ",
    "outputId": "4c03219e-a57c-4583-f439-6699fd0619bb",
    "scrolled": false
   },
   "outputs": [
    {
     "name": "stdout",
     "output_type": "stream",
     "text": [
      "Number of objects = 10        \n",
      "Learning rate = 0.055        \n",
      "Initial weights = [1.  0.5] \n",
      "\n",
      "Iteration #0: W_new = [ 6.94  21.235], MSE = 3047.75\n",
      "Iteration #10: W_new = [22.06405765 13.06063842], MSE = 848.44\n",
      "Iteration #20: W_new = [31.21345509  8.7771262 ], MSE = 268.66\n",
      "Iteration #30: W_new = [36.73513379  6.50786479], MSE = 109.6\n",
      "Iteration #40: W_new = [40.06112387  5.29211526], MSE = 64.0\n",
      "Iteration #50: W_new = [42.06149781  4.63338341], MSE = 50.33\n",
      "Iteration #60: W_new = [43.26313928  4.2724736 ], MSE = 46.05\n",
      "Iteration #70: W_new = [43.98427548  4.07261073], MSE = 44.67\n",
      "Iteration #80: W_new = [44.41671151  3.96081125], MSE = 44.21\n",
      "Iteration #90: W_new = [44.67586386  3.89768846], MSE = 44.05\n",
      "Iteration #100: W_new = [44.83109194  3.86174724], MSE = 44.0\n",
      "Iteration #110: W_new = [44.92403348  3.84112851], MSE = 43.98\n",
      "Iteration #120: W_new = [44.97966334  3.82922172], MSE = 43.97\n",
      "Iteration #130: W_new = [45.01295168  3.82230646], MSE = 43.97\n",
      "Iteration #140: W_new = [45.03286686  3.81827049], MSE = 43.97\n",
      "Iteration #150: W_new = [45.04477934  3.81590517], MSE = 43.97\n",
      "Iteration #160: W_new = [45.05190394  3.8145141 ], MSE = 43.97\n",
      "Iteration #170: W_new = [45.05616453  3.81369361], MSE = 43.97\n",
      "Iteration #180: W_new = [45.05871219  3.81320849], MSE = 43.97\n",
      "Iteration #190: W_new = [45.06023547  3.81292109], MSE = 43.97\n",
      "Iteration #200: W_new = [45.06114621  3.81275054], MSE = 43.97\n",
      "Iteration #210: W_new = [45.06169069  3.8126492 ], MSE = 43.97\n"
     ]
    }
   ],
   "source": [
    "n = X.shape[0]\n",
    "\n",
    "# Найдя веса аналитическим путем во время вебинара, нам нужно стремиться к следующим значениям весов:\n",
    "# W_analytical = array([45.0625,  3.8125])\n",
    "# eta подбирал руками. Начиная с 120-ой итерации наша Mean Squared Error уже не меняется с точностью до двух знаков, \n",
    "# а веса достигают искомых аналитически найденных весов.\n",
    "# ИЗМЕНЕНИЯ\n",
    "eta = 0.055\n",
    "n_iter = 220\n",
    "# ИЗМЕНЕНИЯ\n",
    "\n",
    "W = np.array([1, 0.5])\n",
    "print(f'Number of objects = {n} \\\n",
    "       \\nLearning rate = {eta} \\\n",
    "       \\nInitial weights = {W} \\n')\n",
    "\n",
    "for i in range(n_iter):\n",
    "    y_pred = np.dot(X, W)\n",
    "    err = calc_mse(y, y_pred)\n",
    "    for k in range(W.shape[0]):\n",
    "        W[k] -= eta * (1/n * 2 * X[:, k] @ (y_pred - y))\n",
    "    if i % 10 == 0:\n",
    "        # ИЗМЕНЕНИЕ\n",
    "        #eta /= 1.1 Это я закомментил вообще, оставив только принт ниже.\n",
    "        print(f'Iteration #{i}: W_new = {W}, MSE = {round(err, 2)}')"
   ]
  },
  {
   "cell_type": "markdown",
   "metadata": {
    "colab_type": "text",
    "id": "5Qu1o4JhZYwI"
   },
   "source": [
    "2*. В этом коде мы избавляемся от итераций по весам, но тут есть ошибка, исправьте ее"
   ]
  },
  {
   "cell_type": "code",
   "execution_count": 7,
   "metadata": {},
   "outputs": [
    {
     "name": "stdout",
     "output_type": "stream",
     "text": [
      "Number of objects = 10        \n",
      "Learning rate = 0.01        \n",
      "Initial weights = [1.  0.5] \n",
      "\n",
      "Iteration #0: W_new = [2.08 4.27], MSE = 3047.75\n",
      "Iteration #10: W_new = [ 7.0011236 10.6169007], MSE = 738.65\n",
      "Iteration #20: W_new = [10.3486292  10.10603105], MSE = 622.03\n",
      "Iteration #30: W_new = [13.38789582  9.55618391], MSE = 525.24\n",
      "Iteration #40: W_new = [16.16088505  9.05336203], MSE = 444.66\n",
      "Iteration #50: W_new = [18.69110735  8.59454545], MSE = 377.58\n",
      "Iteration #60: W_new = [20.99981865  8.17589626], MSE = 321.72\n",
      "Iteration #70: W_new = [23.10641138  7.79389815], MSE = 275.22\n",
      "Iteration #80: W_new = [25.02858024  7.44534246], MSE = 236.5\n",
      "Iteration #90: W_new = [26.78247081  7.12730145], MSE = 204.27\n"
     ]
    }
   ],
   "source": [
    "n = X.shape[0]\n",
    "\n",
    "eta = 1e-2\n",
    "n_iter = 100 # Чуть сократил кол-во итераций, чтобы было меньше принтов.\n",
    "\n",
    "W = np.array([1, 0.5])\n",
    "print(f'Number of objects = {n} \\\n",
    "       \\nLearning rate = {eta} \\\n",
    "       \\nInitial weights = {W} \\n')\n",
    "\n",
    "for i in range(n_iter):\n",
    "    y_pred = np.dot(X, W)\n",
    "    err = calc_mse(y, y_pred)\n",
    "#     for k in range(W.shape[0]):\n",
    "#         W[k] -= eta * (1/n * 2 * X[:, k] @ (y_pred - y))\n",
    "    # ИЗМЕНЕНИЯ\n",
    "    # Не уверен, что в этом была задумка задания, но цикла больше нет. \n",
    "    W -= eta * (1/n * 2 * np.dot(X[:, 0], y_pred - y)), eta * (1/n * 2 * np.dot(X[:, 1], y_pred - y))\n",
    "    # ИЗМЕНЕНИЯ\n",
    "    if i % 10 == 0:\n",
    "        print(f'Iteration #{i}: W_new = {W}, MSE = {round(err,2)}')"
   ]
  },
  {
   "cell_type": "markdown",
   "metadata": {},
   "source": [
    "3*. Вместо того, чтобы задавать количество итераций, задайте другое условие останова алгоритма - когда веса перестают изменяться меньше определенного порога $\\epsilon$."
   ]
  },
  {
   "cell_type": "code",
   "execution_count": 8,
   "metadata": {
    "scrolled": false
   },
   "outputs": [
    {
     "name": "stdout",
     "output_type": "stream",
     "text": [
      "Number of objects = 10        \n",
      "Learning rate = 0.01        \n",
      "Initial weights = [1.  0.5] \n",
      "\n",
      "W_new = [2.08 4.27], MSE = 3047.75, current_limit=3.921645062980585\n",
      "W_new = [2.9122 6.6934], MSE = 1777.04, current_limit=2.562308412350083\n",
      "W_new = [3.582352 8.242912], MSE = 1233.12, current_limit=1.6882212951055913\n",
      "W_new = [4.14613024 9.2253808 ], MSE = 995.61, current_limit=1.1327360005186276\n",
      "W_new = [4.63968479 9.83998351], MSE = 887.35, current_limit=0.7882465265551643\n",
      "W_new = [ 5.08649208 10.21600803], MSE = 833.71, current_limit=0.5839787630698616\n",
      "W_new = [ 5.50180176 10.43737578], MSE = 803.21, current_limit=0.4706227848573724\n",
      "Как видим, изменение между весами current_limit достигло лимита в 0.5 и мы вышли из цикла\n"
     ]
    }
   ],
   "source": [
    "n = X.shape[0]\n",
    "\n",
    "eta = 1e-2\n",
    "#n_iter = 1000 Это комментируем, количество итераций нам больше не понадобится.\n",
    "\n",
    "\n",
    "W = np.array([1, 0.5])\n",
    "print(f'Number of objects = {n} \\\n",
    "       \\nLearning rate = {eta} \\\n",
    "       \\nInitial weights = {W} \\n')\n",
    "\n",
    "# Заменяем for i in range на while, а так же создаем переменную limit, которая будет останавливать алгоритм,\n",
    "# если между весами k-1 и k будет разница меньше чем limit.\n",
    "limit = 0.5 # сделал лимит в 0.5, чтобы меньше текста было в аутпуте, но, естественно, значение можно менять.\n",
    "current_limit = np.inf\n",
    "\n",
    "while current_limit > limit:\n",
    "    y_pred = np.dot(X, W)\n",
    "    err = calc_mse(y, y_pred)\n",
    "    # Взял формулу из предыдущего задания.\n",
    "    new_W = W - (eta * (1/n * 2 * np.dot(X[:, 0], y_pred - y)), eta * (1/n * 2 * np.dot(X[:, 1], y_pred - y)))\n",
    "    current_limit = np.linalg.norm(new_W - W, ord=2)\n",
    "    W = new_W\n",
    "    print(f'W_new = {W}, MSE = {round(err,2)}, current_limit={current_limit}')\n",
    "print(f'Как видим, изменение между весами current_limit достигло лимита в {limit} и мы вышли из цикла')"
   ]
  }
 ],
 "metadata": {
  "colab": {
   "name": "Lesson_1.ipynb",
   "provenance": []
  },
  "kernelspec": {
   "display_name": "Python 3",
   "language": "python",
   "name": "python3"
  },
  "language_info": {
   "codemirror_mode": {
    "name": "ipython",
    "version": 3
   },
   "file_extension": ".py",
   "mimetype": "text/x-python",
   "name": "python",
   "nbconvert_exporter": "python",
   "pygments_lexer": "ipython3",
   "version": "3.8.10"
  }
 },
 "nbformat": 4,
 "nbformat_minor": 1
}
