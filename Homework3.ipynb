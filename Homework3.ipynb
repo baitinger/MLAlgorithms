{
 "cells": [
  {
   "cell_type": "markdown",
   "metadata": {},
   "source": [
    "## <center>Практическая часть<a class=\"anchor\" id=\"practice\"></a><center>"
   ]
  },
  {
   "cell_type": "code",
   "execution_count": 1,
   "metadata": {
    "colab": {},
    "colab_type": "code",
    "id": "zhwkeWtb1O0w"
   },
   "outputs": [],
   "source": [
    "import numpy as np\n",
    "import matplotlib.pyplot as plt\n",
    "np.set_printoptions(suppress=True)"
   ]
  },
  {
   "cell_type": "code",
   "execution_count": 2,
   "metadata": {
    "colab": {},
    "colab_type": "code",
    "id": "FeKFn2yb1To4"
   },
   "outputs": [],
   "source": [
    "X = np.array([ [   1,    1,  500,    1],\n",
    "               [   1,    1,  700,    1],\n",
    "               [   1,    2,  750,    2],\n",
    "               [   1,    5,  600,    1],\n",
    "               [   1,    3, 1450,    2],\n",
    "               [   1,    0,  800,    1],\n",
    "               [   1,    5, 1500,    3],\n",
    "               [   1,   10, 2000,    3],\n",
    "               [   1,    1,  450,    1],\n",
    "               [   1,    2, 1000,    2]], dtype=np.float64)\n",
    "\n",
    "y = np.array([0, 0, 1, 0, 1, 0, 1, 0, 1, 1], dtype=np.float64)"
   ]
  },
  {
   "cell_type": "code",
   "execution_count": 3,
   "metadata": {
    "colab": {},
    "colab_type": "code",
    "id": "M-aO1NTxOUfo"
   },
   "outputs": [],
   "source": [
    "def standard_scale(x):\n",
    "    res = (x - x.mean()) / x.std()\n",
    "    return res"
   ]
  },
  {
   "cell_type": "code",
   "execution_count": 4,
   "metadata": {
    "colab": {},
    "colab_type": "code",
    "id": "D8EL0iGJOVpe"
   },
   "outputs": [],
   "source": [
    "X_st = X.copy()\n",
    "X_st[:, 2] = standard_scale(X[:, 2])"
   ]
  },
  {
   "cell_type": "markdown",
   "metadata": {},
   "source": [
    "### Задание 1.\n",
    "Измените функцию calc_logloss так, чтобы нули по возможности не попадали в np.log."
   ]
  },
  {
   "cell_type": "code",
   "execution_count": 5,
   "metadata": {
    "colab": {},
    "colab_type": "code",
    "id": "qMR5pOA38dDw"
   },
   "outputs": [],
   "source": [
    "def calc_logloss(y, y_pred):\n",
    "    # ИЗМЕНЕНИЕ\n",
    "    # Ну тут совсем простая доработка, если вдруг на входе в y_pred есть нули или единицы, \n",
    "    # то меняем их на 1e-8 и 0.99999999. Я пытался найти в интернете более изящный способ, \n",
    "    # и там советовали заменить логлосс на robust poisson regression, дабы избежать log(0) но я не справился)) \n",
    "    y_pred = np.where(y_pred == 0, 1e-8, y_pred)\n",
    "    y_pred = np.where(y_pred == 1, 0.99999999, y_pred)\n",
    "    # ИЗМЕНЕНИЕ\n",
    "    err = - np.mean(y * np.log(y_pred) + (1.0 - y) * np.log(1.0 - y_pred))\n",
    "    return err"
   ]
  },
  {
   "cell_type": "code",
   "execution_count": 6,
   "metadata": {
    "colab": {},
    "colab_type": "code",
    "id": "EEF9rWPNDnss"
   },
   "outputs": [],
   "source": [
    "def sigmoid(z):\n",
    "    res = 1 / (1 + np.exp(-z))\n",
    "    return res"
   ]
  },
  {
   "cell_type": "code",
   "execution_count": 7,
   "metadata": {
    "colab": {},
    "colab_type": "code",
    "id": "_9tN8lBEEeXU"
   },
   "outputs": [],
   "source": [
    "z = np.linspace(-10, 10, 101)"
   ]
  },
  {
   "cell_type": "code",
   "execution_count": 8,
   "metadata": {
    "colab": {},
    "colab_type": "code",
    "id": "nvIe3RpbEp4l"
   },
   "outputs": [],
   "source": [
    "probabilities = sigmoid(z)"
   ]
  },
  {
   "cell_type": "code",
   "execution_count": 9,
   "metadata": {
    "colab": {
     "base_uri": "https://localhost:8080/",
     "height": 283
    },
    "colab_type": "code",
    "id": "jQsCfht0Et1V",
    "outputId": "0c11fcdd-1cf9-49db-aaa7-4fa520ff840a"
   },
   "outputs": [
    {
     "data": {
      "image/png": "[encoded data removed]",
      "text/plain": [
       "<Figure size 432x288 with 1 Axes>"
      ]
     },
     "metadata": {
      "needs_background": "light"
     },
     "output_type": "display_data"
    }
   ],
   "source": [
    "plt.plot(z, probabilities)\n",
    "plt.show()"
   ]
  },
  {
   "cell_type": "markdown",
   "metadata": {
    "colab": {},
    "colab_type": "code",
    "id": "e6TH-mkPItb6"
   },
   "source": [
    "Logistic Regression"
   ]
  },
  {
   "cell_type": "code",
   "execution_count": 10,
   "metadata": {
    "colab": {},
    "colab_type": "code",
    "id": "qtgUN3LW-UIq"
   },
   "outputs": [],
   "source": [
    "def eval_model(X, y, iterations, eta=1e-4, stop=0.0000005):\n",
    "    np.random.seed(42)\n",
    "    W = np.random.randn(X.shape[1])\n",
    "    previous_err = np.inf\n",
    "    err = 50000\n",
    "    n = X.shape[0]\n",
    "    i=0\n",
    "    while i+1 != iterations and stop < previous_err - err:\n",
    "        z = np.dot(X, W)\n",
    "        y_pred = sigmoid(z)\n",
    "        previous_err = err\n",
    "        err = calc_logloss(y, y_pred)\n",
    "        \n",
    "        dQ = 1/n * X.T @ (y_pred - y)\n",
    "        W -= eta * dQ\n",
    "        if i % (iterations / 10) == 0:\n",
    "            print(f'Iter {i}, Weights = {W}, Logloss = {err}')\n",
    "        \n",
    "        i += 1\n",
    "    print('Финальная Logloss:', err)\n",
    "    return W"
   ]
  },
  {
   "cell_type": "markdown",
   "metadata": {},
   "source": [
    "### Задание 2.\n",
    "Подберите аргументы функции eval_model для логистической регрессии таким образом, чтобы log loss был минимальным.\n",
    "\n",
    "Когда я исправил calc_logloss() функцию, то насколько большие значения я не вводил, ошибка постоянно уменьшалась. Например при iterations=10000, и eta=50, ошибка logloss = 0.0018999. Насколько я понимаю, ничего хорошего в этом нет, потому что происходит переобучение, и на новых данных есть возможность плохо себя проявить.\n",
    "\n",
    "Поэтому, я решил добавить в код функции eval_model параметр stop, который, будет останавливать дальнейшний поиск наилучших весов, при logloss(x(n-1)) - logloss(x(n)) < stop."
   ]
  },
  {
   "cell_type": "code",
   "execution_count": 11,
   "metadata": {
    "colab": {
     "base_uri": "https://localhost:8080/",
     "height": 190
    },
    "colab_type": "code",
    "id": "oqX7loklBmYZ",
    "outputId": "f4849295-1f14-40d8-c8f2-d1b002e130c5",
    "scrolled": false
   },
   "outputs": [
    {
     "name": "stdout",
     "output_type": "stream",
     "text": [
      "Iter 0, Weights = [ 0.30702071 -0.8637023   0.63399833  1.23995672], Logloss = 1.1785958344356262\n",
      "Iter 1000, Weights = [-7.46176644 -1.1397904  -1.38249421  6.5578009 ], Logloss = 0.2697605571663567\n",
      "Iter 2000, Weights = [-10.74969762  -1.38438902  -2.4224065    9.13821979], Logloss = 0.23211663486196313\n",
      "Iter 3000, Weights = [-13.27705268  -1.59530901  -3.18887531  11.17398117], Logloss = 0.20971867124439175\n",
      "Iter 4000, Weights = [-15.43105734  -1.78171965  -3.82985003  12.92047379], Logloss = 0.19341864957846572\n",
      "Iter 5000, Weights = [-17.33052557  -1.94891758  -4.38845055  14.46378637], Logloss = 0.1807428196027026\n",
      "Iter 6000, Weights = [-19.03511356  -2.10044671  -4.88548278  15.84964069], Logloss = 0.17054000925731155\n",
      "Iter 7000, Weights = [-20.5830083   -2.23893241  -5.33385135  17.10818414], Logloss = 0.16213271102509202\n",
      "Iter 8000, Weights = [-22.00157251  -2.36640831  -5.74258497  18.26133942], Logloss = 0.1550769178514382\n",
      "Iter 9000, Weights = [-23.31153194  -2.48448685  -6.11839759  19.32583772], Logloss = 0.1490646376678097\n",
      "Финальная Logloss: 0.14505962515340703\n"
     ]
    }
   ],
   "source": [
    "W = eval_model(X_st, y, iterations=10000, eta=0.5, stop=5e-6)"
   ]
  },
  {
   "cell_type": "markdown",
   "metadata": {},
   "source": [
    "### Задание 3.\n",
    "Создайте функцию calc_pred_proba, возвращающую предсказанную вероятность класса 1 (на вход подаются W, который уже посчитан функцией eval_model и X, на выходе - массив y_pred_proba)."
   ]
  },
  {
   "cell_type": "code",
   "execution_count": 12,
   "metadata": {},
   "outputs": [],
   "source": [
    "def calc_pred_proba(weights, X):\n",
    "    return sigmoid(X @ weights)"
   ]
  },
  {
   "cell_type": "code",
   "execution_count": 13,
   "metadata": {
    "scrolled": false
   },
   "outputs": [
    {
     "data": {
      "text/plain": [
       "array([0.38351141, 0.04277146, 0.99999893, 0.00000575, 0.87671615,\n",
       "       0.1351373 , 0.99999991, 0.0399963 , 0.54579745, 0.99997122])"
      ]
     },
     "execution_count": 13,
     "metadata": {},
     "output_type": "execute_result"
    }
   ],
   "source": [
    "proba = calc_pred_proba(W, X_st)\n",
    "proba"
   ]
  },
  {
   "cell_type": "markdown",
   "metadata": {},
   "source": [
    "### Задание 4.\n",
    "Создайте функцию calc_pred, возвращающую предсказанный класс (на вход подаются W, который уже посчитан функцией eval_model и X, на выходе - массив y_pred)."
   ]
  },
  {
   "cell_type": "code",
   "execution_count": 14,
   "metadata": {},
   "outputs": [],
   "source": [
    "def calc_pred(weights, X):\n",
    "    return np.where(sigmoid(X @ weights) > 0.5, 1, 0)"
   ]
  },
  {
   "cell_type": "code",
   "execution_count": 15,
   "metadata": {},
   "outputs": [
    {
     "data": {
      "text/plain": [
       "array([0, 0, 1, 0, 1, 0, 1, 0, 1, 1])"
      ]
     },
     "execution_count": 15,
     "metadata": {},
     "output_type": "execute_result"
    }
   ],
   "source": [
    "predictions = calc_pred(W, X_st)\n",
    "predictions"
   ]
  },
  {
   "cell_type": "markdown",
   "metadata": {},
   "source": [
    "Предсказания модели совпали с реальным таргетом:"
   ]
  },
  {
   "cell_type": "code",
   "execution_count": 16,
   "metadata": {
    "scrolled": true
   },
   "outputs": [
    {
     "data": {
      "text/plain": [
       "array([ True,  True,  True,  True,  True,  True,  True,  True,  True,\n",
       "        True])"
      ]
     },
     "execution_count": 16,
     "metadata": {},
     "output_type": "execute_result"
    }
   ],
   "source": [
    "predictions == y"
   ]
  },
  {
   "cell_type": "markdown",
   "metadata": {},
   "source": [
    "### Задание 5.\n",
    "Реализуйте функции для подсчета Accuracy, матрицы ошибок, точности и полноты, а также F1 score.\n",
    "\n",
    "Я реализую ниже фейковые y и y_pred, чтобы на этих данных проверять работу функций. "
   ]
  },
  {
   "cell_type": "code",
   "execution_count": 17,
   "metadata": {},
   "outputs": [],
   "source": [
    "     y = np.array([0, 1, 0, 1, 0, 0, 0, 1, 1, 0, 1, 0, 1, 0])\n",
    "y_pred = np.array([0, 0, 0, 1, 0, 0, 0, 1, 0, 0, 1, 1, 1, 0])"
   ]
  },
  {
   "cell_type": "markdown",
   "metadata": {},
   "source": [
    "Accuracy:"
   ]
  },
  {
   "cell_type": "code",
   "execution_count": 18,
   "metadata": {},
   "outputs": [],
   "source": [
    "def accuracy(y, y_pred):\n",
    "    return sum(y == y_pred)/len(y)"
   ]
  },
  {
   "cell_type": "code",
   "execution_count": 19,
   "metadata": {},
   "outputs": [
    {
     "data": {
      "text/plain": [
       "0.7857142857142857"
      ]
     },
     "execution_count": 19,
     "metadata": {},
     "output_type": "execute_result"
    }
   ],
   "source": [
    "pred_accuracy = accuracy(y, y_pred)\n",
    "pred_accuracy"
   ]
  },
  {
   "cell_type": "code",
   "execution_count": 20,
   "metadata": {},
   "outputs": [],
   "source": [
    "from sklearn.metrics import accuracy_score"
   ]
  },
  {
   "cell_type": "code",
   "execution_count": 21,
   "metadata": {
    "scrolled": false
   },
   "outputs": [
    {
     "data": {
      "text/plain": [
       "0.7857142857142857"
      ]
     },
     "execution_count": 21,
     "metadata": {},
     "output_type": "execute_result"
    }
   ],
   "source": [
    "accuracy_score(y, y_pred)"
   ]
  },
  {
   "cell_type": "markdown",
   "metadata": {},
   "source": [
    "Confusion Matrix, Precision, Recall, f1_score:"
   ]
  },
  {
   "cell_type": "markdown",
   "metadata": {},
   "source": [
    "Сначала импортируем методы из sklearn, чтобы свериться с функцией, которую мы создадим далее."
   ]
  },
  {
   "cell_type": "code",
   "execution_count": 22,
   "metadata": {},
   "outputs": [],
   "source": [
    "from sklearn.metrics import confusion_matrix, precision_score, recall_score, f1_score"
   ]
  },
  {
   "cell_type": "code",
   "execution_count": 23,
   "metadata": {},
   "outputs": [
    {
     "data": {
      "text/plain": [
       "array([[7, 1],\n",
       "       [2, 4]])"
      ]
     },
     "execution_count": 23,
     "metadata": {},
     "output_type": "execute_result"
    }
   ],
   "source": [
    "confusion_matrix(y, y_pred)"
   ]
  },
  {
   "cell_type": "code",
   "execution_count": 24,
   "metadata": {
    "scrolled": true
   },
   "outputs": [
    {
     "name": "stdout",
     "output_type": "stream",
     "text": [
      "precision= 0.8\n",
      "recall= 0.6666666666666666\n",
      "f1_score= 0.7272727272727272\n"
     ]
    }
   ],
   "source": [
    "print('precision=', precision_score(y, y_pred))\n",
    "print('recall=', recall_score(y, y_pred))\n",
    "print('f1_score=', f1_score(y, y_pred))"
   ]
  },
  {
   "cell_type": "markdown",
   "metadata": {},
   "source": [
    "Теперь создадим свою функцию для подсчета этих метрик:"
   ]
  },
  {
   "cell_type": "code",
   "execution_count": 25,
   "metadata": {},
   "outputs": [],
   "source": [
    "def my_confusion_matrix(y, y_pred):\n",
    "    tp, fp, fn, tn = 0, 0, 0, 0\n",
    "    for i in range(len(y)):\n",
    "        if y_pred[i] == y[i] == 1:\n",
    "            tp += 1\n",
    "        elif y_pred[i] == y[i] == 0:\n",
    "            tn += 1\n",
    "        elif y_pred[i] == 1 and y[i] == 0:\n",
    "            fp += 1\n",
    "        else:\n",
    "            fn += 1\n",
    "    matrix = np.array([[tp, fp], [fn, tn]])\n",
    "    precision = tp/(tp+fp)\n",
    "    recall = tp/(tp+fn)\n",
    "    f1_score = 2*(precision * recall) / (precision + recall)\n",
    "    print(f'Confusion Matrix:\\n{matrix}')\n",
    "    print('*'*30)\n",
    "    print('Precision = ',precision)\n",
    "    print('Recall = ',recall)\n",
    "    print('f1_score = ',f1_score)\n",
    "    return matrix, precision, recall, f1_score"
   ]
  },
  {
   "cell_type": "code",
   "execution_count": 26,
   "metadata": {
    "scrolled": false
   },
   "outputs": [
    {
     "name": "stdout",
     "output_type": "stream",
     "text": [
      "Confusion Matrix:\n",
      "[[4 1]\n",
      " [2 7]]\n",
      "******************************\n",
      "Precision =  0.8\n",
      "Recall =  0.6666666666666666\n",
      "f1_score =  0.7272727272727272\n"
     ]
    }
   ],
   "source": [
    "my_conf_matrix = my_confusion_matrix(y, y_pred)"
   ]
  },
  {
   "cell_type": "markdown",
   "metadata": {},
   "source": [
    "Матрицы confusion_matrix различаются, потому что в confusion matrix встроенной в sklearn, в левом верхнем углу идут True Negative, а в правом нижнем углу True Positive. У меня же наоборот."
   ]
  },
  {
   "cell_type": "markdown",
   "metadata": {},
   "source": [
    "### Задание 6.\n",
    "Могла ли модель переобучиться? Почему?"
   ]
  },
  {
   "cell_type": "markdown",
   "metadata": {},
   "source": [
    "Я думал над этим вопросом еще во втором задании, и написал о том, что при большом количестве итераций, и при больших значениях eta, мой логлосс стремился к нулю, и модель очень сильно переобучалась, с каждой новой итерацией веса все больше подстраивались под идеальные, ошибка стремилась к нулю, было очевидно, что на тестовых данных, которые модель никогда не видела, скорее всего, модель показала бы себя плохо."
   ]
  }
 ],
 "metadata": {
  "colab": {
   "collapsed_sections": [],
   "name": "Lesson_3.ipynb",
   "provenance": []
  },
  "kernelspec": {
   "display_name": "Python 3",
   "language": "python",
   "name": "python3"
  },
  "language_info": {
   "codemirror_mode": {
    "name": "ipython",
    "version": 3
   },
   "file_extension": ".py",
   "mimetype": "text/x-python",
   "name": "python",
   "nbconvert_exporter": "python",
   "pygments_lexer": "ipython3",
   "version": "3.8.10"
  }
 },
 "nbformat": 4,
 "nbformat_minor": 1
}
