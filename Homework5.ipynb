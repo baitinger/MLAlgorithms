{
 "cells": [
  {
   "cell_type": "markdown",
   "metadata": {},
   "source": [
    "# Практическое задание. "
   ]
  },
  {
   "cell_type": "markdown",
   "metadata": {},
   "source": [
    "Сначала идет реализация случайного леса с лекции. Задания будут ниже:"
   ]
  },
  {
   "cell_type": "code",
   "execution_count": 1,
   "metadata": {
    "id": "ZNR-FOeobIWs"
   },
   "outputs": [],
   "source": [
    "import matplotlib.pyplot as plt\n",
    "import random\n",
    "\n",
    "from matplotlib.colors import ListedColormap\n",
    "from sklearn.datasets import make_classification\n",
    "\n",
    "import numpy as np"
   ]
  },
  {
   "cell_type": "markdown",
   "metadata": {
    "id": "JvjWiryZbIW2"
   },
   "source": [
    "Реализуем генерацию $N$ бутстрап-выборок и подмножества признаков для нахождения разбиения в узле."
   ]
  },
  {
   "cell_type": "code",
   "execution_count": 2,
   "metadata": {
    "id": "d7if4ogqbIW3"
   },
   "outputs": [],
   "source": [
    "def get_bootstrap(data, labels, N):\n",
    "    n_samples = data.shape[0] # размер совпадает с исходной выборкой\n",
    "    bootstrap = []\n",
    "    \n",
    "    for i in range(N):\n",
    "        \n",
    "        sample_index = np.random.randint(0, n_samples, size=n_samples)\n",
    "        b_data = data[sample_index]\n",
    "        b_labels = labels[sample_index]\n",
    "        \n",
    "        bootstrap.append((b_data, b_labels))\n",
    "        \n",
    "    return bootstrap"
   ]
  },
  {
   "cell_type": "code",
   "execution_count": 3,
   "metadata": {
    "id": "526l0aGNbIW5"
   },
   "outputs": [],
   "source": [
    "def get_subsample(len_sample):\n",
    "    # будем сохранять не сами признаки, а их индексы\n",
    "    sample_indexes = list(range(len_sample))\n",
    "\n",
    "    len_subsample = int(np.sqrt(len_sample))\n",
    "    \n",
    "    subsample = np.random.choice(sample_indexes, size=len_subsample, replace=False)\n",
    "\n",
    "    return subsample"
   ]
  },
  {
   "cell_type": "markdown",
   "metadata": {
    "id": "L9ZdDJGvbIW8"
   },
   "source": [
    "Далее повторим реализацию построения дерева решений из предыдущего урока с некоторыми изменениями"
   ]
  },
  {
   "cell_type": "code",
   "execution_count": 4,
   "metadata": {
    "id": "Duu45IJUabXi"
   },
   "outputs": [],
   "source": [
    "# Реализуем класс узла\n",
    "\n",
    "class Node:\n",
    "    \n",
    "    def __init__(self, index, t, true_branch, false_branch):\n",
    "        self.index = index  # индекс признака, по которому ведется сравнение с порогом в этом узле\n",
    "        self.t = t  # значение порога\n",
    "        self.true_branch = true_branch  # поддерево, удовлетворяющее условию в узле\n",
    "        self.false_branch = false_branch  # поддерево, не удовлетворяющее условию в узле"
   ]
  },
  {
   "cell_type": "code",
   "execution_count": 5,
   "metadata": {
    "id": "QY8oNtakabXl"
   },
   "outputs": [],
   "source": [
    "# И класс терминального узла (листа)\n",
    "\n",
    "class Leaf:\n",
    "    \n",
    "    def __init__(self, data, labels):\n",
    "        self.data = data\n",
    "        self.labels = labels\n",
    "        self.prediction = self.predict()\n",
    "        \n",
    "    def predict(self):\n",
    "        # подсчет количества объектов разных классов\n",
    "        classes = {}  # сформируем словарь \"класс: количество объектов\"\n",
    "        for label in self.labels:\n",
    "            if label not in classes:\n",
    "                classes[label] = 0\n",
    "            classes[label] += 1\n",
    "            \n",
    "        # найдем класс, количество объектов которого будет максимальным в этом листе и вернем его    \n",
    "        prediction = max(classes, key=classes.get)\n",
    "        return prediction        "
   ]
  },
  {
   "cell_type": "code",
   "execution_count": 6,
   "metadata": {
    "id": "uBdli3WDabXn"
   },
   "outputs": [],
   "source": [
    "# Расчет критерия Джини\n",
    "\n",
    "def gini(labels):\n",
    "    #  подсчет количества объектов разных классов\n",
    "    classes = {}\n",
    "    for label in labels:\n",
    "        if label not in classes:\n",
    "            classes[label] = 0\n",
    "        classes[label] += 1\n",
    "    \n",
    "    #  расчет критерия\n",
    "    impurity = 1\n",
    "    for label in classes:\n",
    "        p = classes[label] / len(labels)\n",
    "        impurity -= p ** 2\n",
    "        \n",
    "    return impurity"
   ]
  },
  {
   "cell_type": "code",
   "execution_count": 7,
   "metadata": {
    "id": "9vvLDhuRabXr"
   },
   "outputs": [],
   "source": [
    "# Расчет прироста\n",
    "\n",
    "def gain(left_labels, right_labels, root_gini):\n",
    "\n",
    "    # доля выборки, ушедшая в левое поддерево\n",
    "    p = float(left_labels.shape[0]) / (left_labels.shape[0] + right_labels.shape[0])\n",
    "    \n",
    "    return root_gini - p * gini(left_labels) - (1 - p) * gini(right_labels)"
   ]
  },
  {
   "cell_type": "code",
   "execution_count": 8,
   "metadata": {
    "id": "nhWkphi3abXt"
   },
   "outputs": [],
   "source": [
    "# Разбиение датасета в узле\n",
    "\n",
    "def split(data, labels, column_index, t):\n",
    "    \n",
    "    left = np.where(data[:, column_index] <= t)\n",
    "    right = np.where(data[:, column_index] > t)\n",
    "        \n",
    "    true_data = data[left]\n",
    "    false_data = data[right]\n",
    "    \n",
    "    true_labels = labels[left]\n",
    "    false_labels = labels[right]\n",
    "        \n",
    "    return true_data, false_data, true_labels, false_labels"
   ]
  },
  {
   "cell_type": "code",
   "execution_count": 9,
   "metadata": {
    "id": "5wi8Fbs_abXw"
   },
   "outputs": [],
   "source": [
    "# Нахождение наилучшего разбиения\n",
    "\n",
    "def find_best_split(data, labels):\n",
    "    \n",
    "    #  обозначим минимальное количество объектов в узле\n",
    "    min_leaf_samples = 5\n",
    "\n",
    "    root_gini = gini(labels)\n",
    "\n",
    "    best_gain = 0\n",
    "    best_t = None\n",
    "    best_index = None\n",
    "    \n",
    "    n_features = data.shape[1]\n",
    "    \n",
    "    feature_subsample_indices = get_subsample(n_features) # выбираем случайные признаки\n",
    "    \n",
    "    for index in feature_subsample_indices:\n",
    "        # будем проверять только уникальные значения признака, исключая повторения\n",
    "        t_values = np.unique(data[:, index])\n",
    "        \n",
    "        for t in t_values:\n",
    "            true_data, false_data, true_labels, false_labels = split(data, labels, index, t)\n",
    "            #  пропускаем разбиения, в которых в узле остается менее 5 объектов\n",
    "#             if len(true_data) < min_leaf_samples or len(false_data) < min_leaf_samples:\n",
    "#                 continue\n",
    "            \n",
    "            current_gain = gain(true_labels, false_labels, root_gini)\n",
    "            \n",
    "            #  выбираем порог, на котором получается максимальный прирост качества\n",
    "            if current_gain > best_gain:\n",
    "                best_gain, best_t, best_index = current_gain, t, index\n",
    "\n",
    "    return best_gain, best_t, best_index"
   ]
  },
  {
   "cell_type": "code",
   "execution_count": 10,
   "metadata": {
    "id": "f1__qSXSabXy"
   },
   "outputs": [],
   "source": [
    "# Построение дерева с помощью рекурсивной функции\n",
    "\n",
    "def build_tree(data, labels):\n",
    "\n",
    "    gain, t, index = find_best_split(data, labels)\n",
    "\n",
    "    #  Базовый случай - прекращаем рекурсию, когда нет прироста в качества\n",
    "    if gain == 0:\n",
    "        return Leaf(data, labels)\n",
    "\n",
    "    true_data, false_data, true_labels, false_labels = split(data, labels, index, t)\n",
    "\n",
    "    # Рекурсивно строим два поддерева\n",
    "    true_branch = build_tree(true_data, true_labels)\n",
    "    false_branch = build_tree(false_data, false_labels)\n",
    "\n",
    "    # Возвращаем класс узла со всеми поддеревьями, то есть целого дерева\n",
    "    return Node(index, t, true_branch, false_branch)"
   ]
  },
  {
   "cell_type": "markdown",
   "metadata": {
    "id": "T_YX8fnmbIXU"
   },
   "source": [
    "Теперь добавим функцию формирования случайного леса."
   ]
  },
  {
   "cell_type": "code",
   "execution_count": 11,
   "metadata": {
    "id": "PZMieMMrbIXV"
   },
   "outputs": [],
   "source": [
    "def random_forest(data, labels, n_trees):\n",
    "    forest = []\n",
    "    bootstrap = get_bootstrap(data, labels, n_trees)\n",
    "    \n",
    "    for b_data, b_labels in bootstrap: \n",
    "        forest.append(build_tree(b_data, b_labels))\n",
    "        \n",
    "    return forest"
   ]
  },
  {
   "cell_type": "code",
   "execution_count": 12,
   "metadata": {
    "id": "tWNbZTz4bIXX"
   },
   "outputs": [],
   "source": [
    "# Функция классификации отдельного объекта\n",
    "\n",
    "def classify_object(obj, node):\n",
    "\n",
    "    #  Останавливаем рекурсию, если достигли листа\n",
    "    if isinstance(node, Leaf):\n",
    "        answer = node.prediction\n",
    "        return answer\n",
    "\n",
    "    if obj[node.index] <= node.t:\n",
    "        return classify_object(obj, node.true_branch)\n",
    "    else:\n",
    "        return classify_object(obj, node.false_branch)"
   ]
  },
  {
   "cell_type": "code",
   "execution_count": 13,
   "metadata": {
    "id": "rWOM8g_YbIXZ"
   },
   "outputs": [],
   "source": [
    "# функция формирования предсказания по выборке на одном дереве\n",
    "\n",
    "def predict(data, tree):\n",
    "    \n",
    "    classes = []\n",
    "    for obj in data:\n",
    "        prediction = classify_object(obj, tree)\n",
    "        classes.append(prediction)\n",
    "    return classes"
   ]
  },
  {
   "cell_type": "code",
   "execution_count": 14,
   "metadata": {
    "id": "ZtIgR7R-bIXc"
   },
   "outputs": [],
   "source": [
    "# предсказание голосованием деревьев\n",
    "\n",
    "def tree_vote(forest, data):\n",
    "\n",
    "    # добавим предсказания всех деревьев в список\n",
    "    predictions = []\n",
    "    for tree in forest:\n",
    "        predictions.append(predict(data, tree))\n",
    "#     print(predictions)\n",
    "\n",
    "    # сформируем список с предсказаниями для каждого объекта\n",
    "    predictions_per_object = list(zip(*predictions))\n",
    "#     print(predictions_per_object)\n",
    "\n",
    "    # выберем в качестве итогового предсказания для каждого объекта то,\n",
    "    # за которое проголосовало большинство деревьев\n",
    "    voted_predictions = []\n",
    "    for obj in predictions_per_object:\n",
    "        voted_predictions.append(max(set(obj), key=obj.count))\n",
    "        \n",
    "    return voted_predictions"
   ]
  },
  {
   "cell_type": "code",
   "execution_count": 15,
   "metadata": {
    "id": "z4apOFB9bIXk"
   },
   "outputs": [],
   "source": [
    "# Введем функцию подсчета точности как доли правильных ответов\n",
    "\n",
    "def accuracy_metric(actual, predicted):\n",
    "    correct = 0\n",
    "    for i in range(len(actual)):\n",
    "        if actual[i] == predicted[i]:\n",
    "            correct += 1\n",
    "    return correct / float(len(actual)) * 100.0"
   ]
  },
  {
   "cell_type": "code",
   "execution_count": 16,
   "metadata": {},
   "outputs": [],
   "source": [
    "import matplotlib.pyplot as plt\n",
    "import numpy as np\n",
    "from sklearn.pipeline import make_pipeline\n",
    "from sklearn.linear_model import LinearRegression\n",
    "from sklearn.tree import DecisionTreeClassifier\n",
    "import random\n",
    "from matplotlib.colors import ListedColormap\n",
    "from sklearn.datasets import make_classification\n",
    "from sklearn.model_selection import train_test_split\n",
    "import warnings\n",
    "warnings.filterwarnings('ignore')"
   ]
  },
  {
   "cell_type": "markdown",
   "metadata": {},
   "source": [
    "## Задание 1 и 2.\n",
    "Сформировать с помощью sklearn.make_classification датасет из 100 объектов с двумя признаками, обучить случайный лес из 1, 3, 10 и 50 деревьев и визуализировать их разделяющие гиперплоскости на графиках (по подобию визуализации деревьев из предыдущего урока, необходимо только заменить вызов функции predict на tree_vote).\n",
    "\n",
    "Сделать выводы о получаемой сложности гиперплоскости и недообучении или переобучении случайного леса в зависимости от количества деревьев в нем."
   ]
  },
  {
   "cell_type": "code",
   "execution_count": 17,
   "metadata": {},
   "outputs": [],
   "source": [
    "X, y = make_classification(n_samples=100,\n",
    "                           n_features=2, n_informative=2, \n",
    "                           n_classes=2, n_redundant=0, \n",
    "                           n_clusters_per_class=1, random_state=22, flip_y=0.4) \n",
    "# Немного усложнил задачу добавив flip_y\n",
    "#  \"\"\"Larger values introduce noise in the labels and make the classification task harder.\"\"\""
   ]
  },
  {
   "cell_type": "code",
   "execution_count": 18,
   "metadata": {},
   "outputs": [],
   "source": [
    "train_data, test_data, train_labels, test_labels = train_test_split(X, \n",
    "                                                                    y, \n",
    "                                                                    test_size=0.3,\n",
    "                                                                    random_state=1)"
   ]
  },
  {
   "cell_type": "code",
   "execution_count": 19,
   "metadata": {},
   "outputs": [],
   "source": [
    "tree1 = random_forest(train_data, train_labels, 1)\n",
    "tree3 = random_forest(train_data, train_labels, 3)\n",
    "tree10 = random_forest(train_data, train_labels, 10)\n",
    "tree50 = random_forest(train_data, train_labels, 50)"
   ]
  },
  {
   "cell_type": "code",
   "execution_count": 20,
   "metadata": {},
   "outputs": [],
   "source": [
    "train_answers1 = tree_vote(tree1, train_data)\n",
    "train_answers3 = tree_vote(tree3, train_data)\n",
    "train_answers10 = tree_vote(tree10, train_data)\n",
    "train_answers50 = tree_vote(tree50, train_data)\n",
    "test_answers1 = tree_vote(tree1, test_data)\n",
    "test_answers3 = tree_vote(tree3, test_data)\n",
    "test_answers10 = tree_vote(tree10, test_data)\n",
    "test_answers50 = tree_vote(tree50, test_data)"
   ]
  },
  {
   "cell_type": "code",
   "execution_count": 21,
   "metadata": {
    "scrolled": false
   },
   "outputs": [
    {
     "name": "stdout",
     "output_type": "stream",
     "text": [
      "Точность случайного леса из:\n",
      "********\n",
      " 1 деревьев: \n",
      " train:87.14285714285714\n",
      " test:53.333333333333336\n",
      "********\n",
      "3 деревьев: \n",
      " train:87.14285714285714\n",
      " test:36.666666666666664\n",
      "********\n",
      "10 деревьев: \n",
      " train:100.0\n",
      " test:66.66666666666666\n",
      "********\n",
      "50 деревьев: \n",
      " train:100.0\n",
      " test:53.333333333333336\n",
      "********\n",
      "\n"
     ]
    }
   ],
   "source": [
    "train_accuracy1 = accuracy_metric(train_labels, train_answers1)\n",
    "train_accuracy3 = accuracy_metric(train_labels, train_answers3)\n",
    "train_accuracy10 = accuracy_metric(train_labels, train_answers10)\n",
    "train_accuracy50 = accuracy_metric(train_labels, train_answers50)\n",
    "test_accuracy1 = accuracy_metric(test_labels, test_answers1)\n",
    "test_accuracy3 = accuracy_metric(test_labels, test_answers3)\n",
    "test_accuracy10 = accuracy_metric(test_labels, test_answers10)\n",
    "test_accuracy50 = accuracy_metric(test_labels, test_answers50)\n",
    "\n",
    "\n",
    "print(f'Точность случайного леса из:\\n********\\n \\\n",
    "{1} деревьев: \\n train:{train_accuracy1}\\n test:{test_accuracy1}\\n********\\n\\\n",
    "{3} деревьев: \\n train:{train_accuracy3}\\n test:{test_accuracy3}\\n********\\n\\\n",
    "{10} деревьев: \\n train:{train_accuracy10}\\n test:{test_accuracy10}\\n********\\n\\\n",
    "{50} деревьев: \\n train:{train_accuracy50}\\n test:{test_accuracy50}\\n********\\n')"
   ]
  },
  {
   "cell_type": "code",
   "execution_count": 22,
   "metadata": {},
   "outputs": [],
   "source": [
    "# Визуализируем дерево на графике\n",
    "\n",
    "def get_meshgrid(data, step=.05, border=1.2):\n",
    "    x_min, x_max = data[:, 0].min() - border, data[:, 0].max() + border\n",
    "    y_min, y_max = data[:, 1].min() - border, data[:, 1].max() + border\n",
    "    return np.meshgrid(np.arange(x_min, x_max, step), np.arange(y_min, y_max, step))\n",
    "\n",
    "\n",
    "#ИЗМЕНЕНИЕ добавил my_tree, train_labels, train_accuracy в параметры ф-ии, чтобы менять модель.\n",
    "def visualize(train_data, train_labels, train_accuracy, my_tree, test_data, test_labels, test_accuracy):     \n",
    "    plt.figure(figsize = (16, 7))\n",
    "    # Цвета добавлены в функцию\n",
    "    colors = ListedColormap(['red', 'blue'])\n",
    "    light_colors = ListedColormap(['lightcoral', 'lightblue'])\n",
    "\n",
    "    plt.subplot(1,2,1)\n",
    "    xx, yy = get_meshgrid(train_data)\n",
    "    # Изменено predict на tree_vote, а так же изменены местами параметры ф-ии tree_vote\n",
    "    mesh_predictions = np.array(tree_vote(my_tree, np.c_[xx.ravel(), yy.ravel()])).reshape(xx.shape)\n",
    "    plt.pcolormesh(xx, yy, mesh_predictions, cmap = light_colors)\n",
    "    plt.scatter(train_data[:, 0], train_data[:, 1], c = train_labels, cmap = colors)\n",
    "    plt.title(f'Train accuracy={train_accuracy:.2f}')\n",
    "    \n",
    "    plt.subplot(1,2,2)\n",
    "    plt.pcolormesh(xx, yy, mesh_predictions, cmap = light_colors)\n",
    "    plt.scatter(test_data[:, 0], test_data[:, 1], c = test_labels, cmap = colors)\n",
    "    plt.title(f'Test accuracy={test_accuracy:.2f}')"
   ]
  },
  {
   "cell_type": "code",
   "execution_count": 23,
   "metadata": {
    "scrolled": false
   },
   "outputs": [
    {
     "data": {
      "image/png": "[encoded data removed]",
      "text/plain": [
       "<Figure size 1152x504 with 2 Axes>"
      ]
     },
     "metadata": {
      "needs_background": "light"
     },
     "output_type": "display_data"
    },
    {
     "data": {
      "image/png": "[encoded data removed]",
      "text/plain": [
       "<Figure size 1152x504 with 2 Axes>"
      ]
     },
     "metadata": {
      "needs_background": "light"
     },
     "output_type": "display_data"
    },
    {
     "data": {
      "image/png": "[encoded data removed]",
      "text/plain": [
       "<Figure size 1152x504 with 2 Axes>"
      ]
     },
     "metadata": {
      "needs_background": "light"
     },
     "output_type": "display_data"
    },
    {
     "data": {
      "image/png": "[encoded data removed]",
      "text/plain": [
       "<Figure size 1152x504 with 2 Axes>"
      ]
     },
     "metadata": {
      "needs_background": "light"
     },
     "output_type": "display_data"
    }
   ],
   "source": [
    "visualize(train_data, train_labels, train_accuracy1, tree1, test_data, test_labels, test_accuracy1)\n",
    "visualize(train_data, train_labels, train_accuracy3, tree3, test_data, test_labels, test_accuracy3)\n",
    "visualize(train_data, train_labels, train_accuracy10, tree10, test_data, test_labels, test_accuracy10)\n",
    "visualize(train_data, train_labels, train_accuracy50, tree50, test_data, test_labels, test_accuracy50)\n",
    "plt.show();"
   ]
  },
  {
   "cell_type": "markdown",
   "metadata": {},
   "source": [
    "Вывод: С увеличением количеств деревьев в случайном лесу, метрика accuracy на трейне увеличивается, но это вовсе не значит, что на тесте эта же метрика будет хорошей, как видим чем больше деревьев, тем сложнее становится модель, тем больше она улавливает мельчайших изменений в данных, и находит закономерности, где возможно этих закономерностей и не имеется вовсе. Судя по всему, очень много зависит так же от данных, я эксперементировал с разными гиперпараметрами make_classification, и иногда было достаточно даже 1 дерева в случайном лесе, чтобы добиться неплохого результата. В целом, видно, что случайный лес можно переобучить, как раз на последнем примере, где 50 деревьев, accuracy на трейне 100, а не тесте гораздо меньше."
   ]
  },
  {
   "cell_type": "markdown",
   "metadata": {},
   "source": [
    "## Задание 3.\n",
    "Заменить в реализованном алгоритме проверку с помощью отложенной выборки на Out-of-Bag."
   ]
  },
  {
   "cell_type": "markdown",
   "metadata": {},
   "source": [
    "Создадим небольшой датасет из 10 объектов. Небольшим я его для того, чтобы можно было визуализировать и вывести работу функций ниже."
   ]
  },
  {
   "cell_type": "code",
   "execution_count": 24,
   "metadata": {},
   "outputs": [],
   "source": [
    "X, y = make_classification(n_samples=10,\n",
    "                           n_features=2, n_informative=2, \n",
    "                           n_classes=2, n_redundant=0, \n",
    "                           n_clusters_per_class=1, random_state=22, flip_y=0.05) "
   ]
  },
  {
   "cell_type": "code",
   "execution_count": 25,
   "metadata": {},
   "outputs": [],
   "source": [
    "def get_bootstrap(data, labels, N):\n",
    "    n_samples = data.shape[0] \n",
    "    bootstrap = []\n",
    "    \n",
    "    for i in range(N):\n",
    "        \n",
    "        sample_index = np.random.randint(0, n_samples, size=n_samples)\n",
    "        b_data = data[sample_index]\n",
    "        b_labels = labels[sample_index]\n",
    "        \n",
    "        ### ИЗМЕНЕНИЯ\n",
    "        # Создаю переменную oob_index, которая возвращает индексы объектов, невошедшие в бутстрап.\n",
    "        oob_index = [el for el in range(len(data)) if el not in sample_index]\n",
    "        \n",
    "        # Добавляю в каждый бутстрап помимо данных и таргетов, еще и индексы невошедших туда объектов.\n",
    "        bootstrap.append((b_data, b_labels, oob_index))\n",
    "        ### ИЗМЕНЕНИЯ\n",
    "        \n",
    "    return bootstrap"
   ]
  },
  {
   "cell_type": "code",
   "execution_count": 26,
   "metadata": {},
   "outputs": [],
   "source": [
    "def random_forest(data, labels, n_trees):\n",
    "    \n",
    "    forest = []\n",
    "    bootstrap = get_bootstrap(data, labels, n_trees) \n",
    "    \n",
    "    not_trained_on = {} # словарь типа \"индекс объекта: [индексы деревьев, не обучавшиеся на этом объекте]\"\n",
    "    tree_index = 0 # инкремент, начинаем с дерева с индексом 0\n",
    "    for b_data, b_labels, oob_index in bootstrap: # не забываем, что бустрап еще теперь имеет индексы oob объектов.\n",
    "        forest.append(build_tree(b_data, b_labels)) # добавляем в случайный лес обученное дерево\n",
    "        for el in oob_index: # для каждого индекса oob объекта\n",
    "            if el not in not_trained_on: # если индекса еще нет в словаре\n",
    "                not_trained_on[el] = [tree_index] # то присваем индексу объекта индекс дерева, которое не обучалось\n",
    "            else:\n",
    "                not_trained_on[el].append(tree_index) # если индекс уже есть в словаре, то добавляем индекс дерева\n",
    "        tree_index += 1 # увеличиваем инкремент (индекс дерева)\n",
    "    \n",
    "    forest.append(not_trained_on) # закидываем получившийся словарь последним элементом в случайный лес\n",
    "    return forest"
   ]
  },
  {
   "cell_type": "code",
   "execution_count": 27,
   "metadata": {},
   "outputs": [],
   "source": [
    "def tree_vote(forest, data):\n",
    "\n",
    "    # Эта часть с предсказаниями без изменений.\n",
    "    predictions = []\n",
    "    for tree in forest[:-1]:\n",
    "        predictions.append(predict(data, tree))\n",
    "\n",
    "    predictions_per_object = list(zip(*predictions))\n",
    "\n",
    "    voted_predictions = []\n",
    "    for obj in predictions_per_object:\n",
    "        voted_predictions.append(max(set(obj), key=obj.count))\n",
    "    \n",
    "    \n",
    "    ### ИЗМЕНЕНИЯ\n",
    "    oob_predictions = {} # Словарь, где мы будем хранить предсказанные значения для каждого Out of Bag объекта \n",
    "    \n",
    "    for key in sorted(tree_test[-1].keys()): # для каждого индекса объекта\n",
    "        predictions_for_key = []\n",
    "        for tree in tree_test[-1][key]: # для каждого дерева, которое не обучалось на нашем объекте\n",
    "            print(f'Объект с индексом {key}, Дерево с индексом {tree}')\n",
    "            predictions_for_key.append(classify_object(data[key], forest[tree])) # классифицируем объект деревом\n",
    "        print(f'Предсказание: {predictions_for_key}')\n",
    "        oob_predictions[key] = max(predictions_for_key, key=predictions_for_key.count) # после цикла финальное предсказание\n",
    "        print(f'Финальное предсказание: {max(predictions_for_key, key=predictions_for_key.count)}')\n",
    "    \n",
    "    return voted_predictions, list(oob_predictions.values()) # возвращаем настоящие предсказания, и Out of Bag\n",
    "    ### ИЗМЕНЕНИЯ"
   ]
  },
  {
   "cell_type": "markdown",
   "metadata": {},
   "source": [
    "Тестируем:"
   ]
  },
  {
   "cell_type": "code",
   "execution_count": 28,
   "metadata": {},
   "outputs": [],
   "source": [
    "tree_test = random_forest(X, y, 10)"
   ]
  },
  {
   "cell_type": "markdown",
   "metadata": {},
   "source": [
    "Ниже словарь с индексами объектов и индексами деревьев, которые не обучались на данном объекте."
   ]
  },
  {
   "cell_type": "code",
   "execution_count": 29,
   "metadata": {
    "scrolled": true
   },
   "outputs": [
    {
     "data": {
      "text/plain": [
       "{0: [0, 2, 3, 4, 6, 8],\n",
       " 1: [0, 4, 6, 8],\n",
       " 2: [0, 2, 5, 7],\n",
       " 7: [0, 2, 3, 4, 5],\n",
       " 8: [0, 1, 3, 8],\n",
       " 3: [1, 7, 8, 9],\n",
       " 4: [1, 6],\n",
       " 5: [1, 2, 6, 9],\n",
       " 9: [1, 2, 5, 7],\n",
       " 6: [3, 9]}"
      ]
     },
     "execution_count": 29,
     "metadata": {},
     "output_type": "execute_result"
    }
   ],
   "source": [
    "tree_test[-1]"
   ]
  },
  {
   "cell_type": "markdown",
   "metadata": {},
   "source": [
    "Подсчитаем сколько раз деревья пропустили те или иные объекты, и не обучались на них:"
   ]
  },
  {
   "cell_type": "code",
   "execution_count": 30,
   "metadata": {},
   "outputs": [
    {
     "data": {
      "text/plain": [
       "39"
      ]
     },
     "execution_count": 30,
     "metadata": {},
     "output_type": "execute_result"
    }
   ],
   "source": [
    "count_of_elements_missed_by_trees = sum( [ len(el) for el in list(tree_test[-1].values())])\n",
    "count_of_elements_missed_by_trees"
   ]
  },
  {
   "cell_type": "code",
   "execution_count": 31,
   "metadata": {},
   "outputs": [
    {
     "data": {
      "text/plain": [
       "100"
      ]
     },
     "execution_count": 31,
     "metadata": {},
     "output_type": "execute_result"
    }
   ],
   "source": [
    "total_count_of_elements = 10*10 #Кол-во объектов, умноженное на кол-во деревьев в случайном лесе\n",
    "total_count_of_elements"
   ]
  },
  {
   "cell_type": "code",
   "execution_count": 32,
   "metadata": {
    "scrolled": true
   },
   "outputs": [
    {
     "name": "stdout",
     "output_type": "stream",
     "text": [
      "Примерно не попало в основную выборку обучения случайного леса 39% данных\n"
     ]
    }
   ],
   "source": [
    "print(f'Примерно не попало в основную выборку \\\n",
    "обучения случайного леса {int(count_of_elements_missed_by_trees/total_count_of_elements*100)}% данных')"
   ]
  },
  {
   "cell_type": "markdown",
   "metadata": {},
   "source": [
    "Похоже на правду!"
   ]
  },
  {
   "cell_type": "markdown",
   "metadata": {},
   "source": [
    "Немножко логирования, посмотрим:"
   ]
  },
  {
   "cell_type": "code",
   "execution_count": 33,
   "metadata": {
    "scrolled": true
   },
   "outputs": [
    {
     "name": "stdout",
     "output_type": "stream",
     "text": [
      "Объект с индексом 0, Дерево с индексом 0\n",
      "Объект с индексом 0, Дерево с индексом 2\n",
      "Объект с индексом 0, Дерево с индексом 3\n",
      "Объект с индексом 0, Дерево с индексом 4\n",
      "Объект с индексом 0, Дерево с индексом 6\n",
      "Объект с индексом 0, Дерево с индексом 8\n",
      "Предсказание: [1, 1, 1, 1, 1, 1]\n",
      "Финальное предсказание: 1\n",
      "Объект с индексом 1, Дерево с индексом 0\n",
      "Объект с индексом 1, Дерево с индексом 4\n",
      "Объект с индексом 1, Дерево с индексом 6\n",
      "Объект с индексом 1, Дерево с индексом 8\n",
      "Предсказание: [0, 0, 1, 1]\n",
      "Финальное предсказание: 0\n",
      "Объект с индексом 2, Дерево с индексом 0\n",
      "Объект с индексом 2, Дерево с индексом 2\n",
      "Объект с индексом 2, Дерево с индексом 5\n",
      "Объект с индексом 2, Дерево с индексом 7\n",
      "Предсказание: [0, 0, 0, 0]\n",
      "Финальное предсказание: 0\n",
      "Объект с индексом 3, Дерево с индексом 1\n",
      "Объект с индексом 3, Дерево с индексом 7\n",
      "Объект с индексом 3, Дерево с индексом 8\n",
      "Объект с индексом 3, Дерево с индексом 9\n",
      "Предсказание: [0, 0, 0, 0]\n",
      "Финальное предсказание: 0\n",
      "Объект с индексом 4, Дерево с индексом 1\n",
      "Объект с индексом 4, Дерево с индексом 6\n",
      "Предсказание: [1, 0]\n",
      "Финальное предсказание: 1\n",
      "Объект с индексом 5, Дерево с индексом 1\n",
      "Объект с индексом 5, Дерево с индексом 2\n",
      "Объект с индексом 5, Дерево с индексом 6\n",
      "Объект с индексом 5, Дерево с индексом 9\n",
      "Предсказание: [0, 1, 1, 1]\n",
      "Финальное предсказание: 1\n",
      "Объект с индексом 6, Дерево с индексом 3\n",
      "Объект с индексом 6, Дерево с индексом 9\n",
      "Предсказание: [0, 0]\n",
      "Финальное предсказание: 0\n",
      "Объект с индексом 7, Дерево с индексом 0\n",
      "Объект с индексом 7, Дерево с индексом 2\n",
      "Объект с индексом 7, Дерево с индексом 3\n",
      "Объект с индексом 7, Дерево с индексом 4\n",
      "Объект с индексом 7, Дерево с индексом 5\n",
      "Предсказание: [0, 0, 1, 0, 0]\n",
      "Финальное предсказание: 0\n",
      "Объект с индексом 8, Дерево с индексом 0\n",
      "Объект с индексом 8, Дерево с индексом 1\n",
      "Объект с индексом 8, Дерево с индексом 3\n",
      "Объект с индексом 8, Дерево с индексом 8\n",
      "Предсказание: [1, 0, 1, 1]\n",
      "Финальное предсказание: 1\n",
      "Объект с индексом 9, Дерево с индексом 1\n",
      "Объект с индексом 9, Дерево с индексом 2\n",
      "Объект с индексом 9, Дерево с индексом 5\n",
      "Объект с индексом 9, Дерево с индексом 7\n",
      "Предсказание: [0, 1, 1, 1]\n",
      "Финальное предсказание: 1\n"
     ]
    }
   ],
   "source": [
    "voted, oob = tree_vote(tree_test, X)"
   ]
  },
  {
   "cell_type": "markdown",
   "metadata": {},
   "source": [
    "Сверим метрики:\n",
    "\n",
    "Случайный лес в нашем исполнении имеет 100 на трейне, и 60 на Out of Bag объектах."
   ]
  },
  {
   "cell_type": "code",
   "execution_count": 34,
   "metadata": {},
   "outputs": [
    {
     "data": {
      "text/plain": [
       "[1, 0, 0, 0, 1, 1, 0, 0, 1, 1]"
      ]
     },
     "execution_count": 34,
     "metadata": {},
     "output_type": "execute_result"
    }
   ],
   "source": [
    "oob"
   ]
  },
  {
   "cell_type": "code",
   "execution_count": 35,
   "metadata": {
    "scrolled": false
   },
   "outputs": [
    {
     "data": {
      "text/plain": [
       "90.0"
      ]
     },
     "execution_count": 35,
     "metadata": {},
     "output_type": "execute_result"
    }
   ],
   "source": [
    "accuracy_metric(voted, y)"
   ]
  },
  {
   "cell_type": "code",
   "execution_count": 36,
   "metadata": {
    "scrolled": true
   },
   "outputs": [
    {
     "data": {
      "text/plain": [
       "60.0"
      ]
     },
     "execution_count": 36,
     "metadata": {},
     "output_type": "execute_result"
    }
   ],
   "source": [
    "accuracy_metric(oob, y)"
   ]
  },
  {
   "cell_type": "markdown",
   "metadata": {},
   "source": [
    "Случайный лес в исполнении sklearn, имеет 100 на трейне, и 60 на Out of Bag объектах. Похоже не те же метрики, что имеет и наш случайный лес."
   ]
  },
  {
   "cell_type": "code",
   "execution_count": 37,
   "metadata": {},
   "outputs": [],
   "source": [
    "from sklearn.ensemble import RandomForestClassifier"
   ]
  },
  {
   "cell_type": "code",
   "execution_count": 38,
   "metadata": {},
   "outputs": [],
   "source": [
    "classy = RandomForestClassifier(n_estimators=10,\n",
    "                               oob_score=True)"
   ]
  },
  {
   "cell_type": "code",
   "execution_count": 39,
   "metadata": {},
   "outputs": [
    {
     "data": {
      "text/plain": [
       "RandomForestClassifier(n_estimators=10, oob_score=True)"
      ]
     },
     "execution_count": 39,
     "metadata": {},
     "output_type": "execute_result"
    }
   ],
   "source": [
    "classy.fit(X, y)"
   ]
  },
  {
   "cell_type": "code",
   "execution_count": 40,
   "metadata": {},
   "outputs": [
    {
     "data": {
      "text/plain": [
       "100.0"
      ]
     },
     "execution_count": 40,
     "metadata": {},
     "output_type": "execute_result"
    }
   ],
   "source": [
    "accuracy_metric(y, classy.predict(X))"
   ]
  },
  {
   "cell_type": "code",
   "execution_count": 41,
   "metadata": {
    "scrolled": false
   },
   "outputs": [
    {
     "data": {
      "text/plain": [
       "0.6"
      ]
     },
     "execution_count": 41,
     "metadata": {},
     "output_type": "execute_result"
    }
   ],
   "source": [
    "classy.oob_score_"
   ]
  },
  {
   "cell_type": "markdown",
   "metadata": {},
   "source": [
    "### Задание 4.\n",
    "*(На повторение) Переписать функцию gini из урока про решающие деревья так, чтобы в качестве критерия использовалась энтропия Шэннона. Переименовать функцию в entropy."
   ]
  },
  {
   "cell_type": "markdown",
   "metadata": {},
   "source": [
    "Создадим функцию расчета энтропии:"
   ]
  },
  {
   "cell_type": "code",
   "execution_count": 42,
   "metadata": {},
   "outputs": [],
   "source": [
    "# Расчет Энтропии\n",
    "\n",
    "def entropy(labels):\n",
    "    #  подсчет количества объектов разных классов\n",
    "    classes = {}\n",
    "    for label in labels:\n",
    "        if label not in classes:\n",
    "            classes[label] = 0\n",
    "        classes[label] += 1\n",
    "    \n",
    "    #  расчет энтропии:\n",
    "    entropy_value = 0\n",
    "    for label in classes:\n",
    "        p = classes[label] / len(labels)\n",
    "        if p != 0:\n",
    "            entropy_value += p*np.log2(p)\n",
    "        else: # Если вдруг доля объекта = 0, то не будем считать логарифм от нуля, иначе будет ошибка.\n",
    "            entropy_value += 0\n",
    "        \n",
    "    return -1*entropy_value # не забываем добавить знак минуса"
   ]
  },
  {
   "cell_type": "markdown",
   "metadata": {},
   "source": [
    "Изменим функцию gain (заменим gini на entropy):"
   ]
  },
  {
   "cell_type": "code",
   "execution_count": 43,
   "metadata": {},
   "outputs": [],
   "source": [
    "# Расчет прироста\n",
    "\n",
    "def gain(left_labels, right_labels, root_entropy):\n",
    "\n",
    "    # доля выборки, ушедшая в левое поддерево\n",
    "    p = float(left_labels.shape[0]) / (left_labels.shape[0] + right_labels.shape[0])\n",
    "    \n",
    "    return root_entropy - p * entropy(left_labels) - (1 - p) * entropy(right_labels)"
   ]
  },
  {
   "cell_type": "markdown",
   "metadata": {},
   "source": [
    "Изменим gini на entropy в find_best_split функции (ничего нового тут не добавлено):"
   ]
  },
  {
   "cell_type": "code",
   "execution_count": 44,
   "metadata": {},
   "outputs": [],
   "source": [
    "# Нахождение наилучшего разбиения\n",
    "\n",
    "def find_best_split(data, labels):\n",
    "    \n",
    "    #  обозначим минимальное количество объектов в узле\n",
    "    min_leaf_samples = 5\n",
    "\n",
    "    root_entropy = entropy(labels)\n",
    "\n",
    "    best_gain = 0\n",
    "    best_t = None\n",
    "    best_index = None\n",
    "    \n",
    "    n_features = data.shape[1]\n",
    "    \n",
    "    feature_subsample_indices = get_subsample(n_features) # выбираем случайные признаки\n",
    "    \n",
    "    for index in feature_subsample_indices:\n",
    "        # будем проверять только уникальные значения признака, исключая повторения\n",
    "        t_values = np.unique(data[:, index])\n",
    "        \n",
    "        for t in t_values:\n",
    "            true_data, false_data, true_labels, false_labels = split(data, labels, index, t)\n",
    "            #  пропускаем разбиения, в которых в узле остается менее 5 объектов\n",
    "#             if len(true_data) < min_leaf_samples or len(false_data) < min_leaf_samples:\n",
    "#                 continue\n",
    "            \n",
    "            current_gain = gain(true_labels, false_labels, root_entropy)\n",
    "            \n",
    "            #  выбираем порог, на котором получается максимальный прирост качества\n",
    "            if current_gain > best_gain:\n",
    "                best_gain, best_t, best_index = current_gain, t, index\n",
    "\n",
    "    return best_gain, best_t, best_index"
   ]
  },
  {
   "cell_type": "code",
   "execution_count": 45,
   "metadata": {},
   "outputs": [],
   "source": [
    "entropy_forest = random_forest(X, y, 10)"
   ]
  },
  {
   "cell_type": "markdown",
   "metadata": {},
   "source": [
    "Раз уж мы создали Out of Bag реализацию проверки, то и посмотрим смог ли обучиться случайный лес, в основе которого лежит энтропия:"
   ]
  },
  {
   "cell_type": "code",
   "execution_count": 46,
   "metadata": {
    "scrolled": true
   },
   "outputs": [
    {
     "name": "stdout",
     "output_type": "stream",
     "text": [
      "Объект с индексом 0, Дерево с индексом 0\n",
      "Объект с индексом 0, Дерево с индексом 2\n",
      "Объект с индексом 0, Дерево с индексом 3\n",
      "Объект с индексом 0, Дерево с индексом 4\n",
      "Объект с индексом 0, Дерево с индексом 6\n",
      "Объект с индексом 0, Дерево с индексом 8\n",
      "Предсказание: [1, 0, 1, 1, 0, 0]\n",
      "Финальное предсказание: 1\n",
      "Объект с индексом 1, Дерево с индексом 0\n",
      "Объект с индексом 1, Дерево с индексом 4\n",
      "Объект с индексом 1, Дерево с индексом 6\n",
      "Объект с индексом 1, Дерево с индексом 8\n",
      "Предсказание: [1, 0, 1, 1]\n",
      "Финальное предсказание: 1\n",
      "Объект с индексом 2, Дерево с индексом 0\n",
      "Объект с индексом 2, Дерево с индексом 2\n",
      "Объект с индексом 2, Дерево с индексом 5\n",
      "Объект с индексом 2, Дерево с индексом 7\n",
      "Предсказание: [1, 1, 1, 1]\n",
      "Финальное предсказание: 1\n",
      "Объект с индексом 3, Дерево с индексом 1\n",
      "Объект с индексом 3, Дерево с индексом 7\n",
      "Объект с индексом 3, Дерево с индексом 8\n",
      "Объект с индексом 3, Дерево с индексом 9\n",
      "Предсказание: [0, 0, 0, 0]\n",
      "Финальное предсказание: 0\n",
      "Объект с индексом 4, Дерево с индексом 1\n",
      "Объект с индексом 4, Дерево с индексом 6\n",
      "Предсказание: [0, 0]\n",
      "Финальное предсказание: 0\n",
      "Объект с индексом 5, Дерево с индексом 1\n",
      "Объект с индексом 5, Дерево с индексом 2\n",
      "Объект с индексом 5, Дерево с индексом 6\n",
      "Объект с индексом 5, Дерево с индексом 9\n",
      "Предсказание: [1, 1, 1, 1]\n",
      "Финальное предсказание: 1\n",
      "Объект с индексом 6, Дерево с индексом 3\n",
      "Объект с индексом 6, Дерево с индексом 9\n",
      "Предсказание: [1, 0]\n",
      "Финальное предсказание: 1\n",
      "Объект с индексом 7, Дерево с индексом 0\n",
      "Объект с индексом 7, Дерево с индексом 2\n",
      "Объект с индексом 7, Дерево с индексом 3\n",
      "Объект с индексом 7, Дерево с индексом 4\n",
      "Объект с индексом 7, Дерево с индексом 5\n",
      "Предсказание: [0, 0, 0, 0, 0]\n",
      "Финальное предсказание: 0\n",
      "Объект с индексом 8, Дерево с индексом 0\n",
      "Объект с индексом 8, Дерево с индексом 1\n",
      "Объект с индексом 8, Дерево с индексом 3\n",
      "Объект с индексом 8, Дерево с индексом 8\n",
      "Предсказание: [1, 1, 1, 0]\n",
      "Финальное предсказание: 1\n",
      "Объект с индексом 9, Дерево с индексом 1\n",
      "Объект с индексом 9, Дерево с индексом 2\n",
      "Объект с индексом 9, Дерево с индексом 5\n",
      "Объект с индексом 9, Дерево с индексом 7\n",
      "Предсказание: [1, 1, 1, 1]\n",
      "Финальное предсказание: 1\n"
     ]
    }
   ],
   "source": [
    "voted, oob = tree_vote(entropy_forest, X)\n",
    "# Вывод ниже это только предсказание на Out of Bag объектах. Основное предсказаниме происходит silently."
   ]
  },
  {
   "cell_type": "code",
   "execution_count": 47,
   "metadata": {
    "scrolled": true
   },
   "outputs": [
    {
     "data": {
      "text/plain": [
       "[1, 1, 1, 0, 0, 1, 1, 0, 1, 1]"
      ]
     },
     "execution_count": 47,
     "metadata": {},
     "output_type": "execute_result"
    }
   ],
   "source": [
    "oob"
   ]
  },
  {
   "cell_type": "code",
   "execution_count": 48,
   "metadata": {
    "scrolled": false
   },
   "outputs": [
    {
     "name": "stdout",
     "output_type": "stream",
     "text": [
      "Accuracy на трейне:100.0\n",
      "Accuracy OOB: 80.0\n"
     ]
    }
   ],
   "source": [
    "print(f'Accuracy на трейне:{accuracy_metric(voted, y)}\\nAccuracy OOB: {accuracy_metric(oob, y)}')"
   ]
  },
  {
   "cell_type": "markdown",
   "metadata": {},
   "source": [
    "Раз мы имеем accuracy на 100, то можно сделать вывод, что лес смог обучиться на энтропии, и может правильно предсказывать принадлежность к классам."
   ]
  }
 ],
 "metadata": {
  "colab": {
   "collapsed_sections": [],
   "name": "Lesson_5.ipynb",
   "provenance": []
  },
  "kernelspec": {
   "display_name": "Python 3",
   "language": "python",
   "name": "python3"
  },
  "language_info": {
   "codemirror_mode": {
    "name": "ipython",
    "version": 3
   },
   "file_extension": ".py",
   "mimetype": "text/x-python",
   "name": "python",
   "nbconvert_exporter": "python",
   "pygments_lexer": "ipython3",
   "version": "3.8.10"
  }
 },
 "nbformat": 4,
 "nbformat_minor": 1
}
